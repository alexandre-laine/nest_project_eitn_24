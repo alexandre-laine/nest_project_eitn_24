{
 "cells": [
  {
   "cell_type": "code",
   "execution_count": 45,
   "id": "b4e46940-184e-4569-b30a-a454d63a0596",
   "metadata": {},
   "outputs": [],
   "source": [
    "import nest;\n",
    "import nest.raster_plot\n",
    "import numpy as np\n",
    "import matplotlib.pyplot as plt\n",
    "from utils.inputs import generate_piecewise_constant_signal\n",
    "from scipy.stats import pearsonr"
   ]
  },
  {
   "cell_type": "code",
   "execution_count": 46,
   "id": "adca8169-8c16-484d-aa44-cb4c1b134e98",
   "metadata": {},
   "outputs": [
    {
     "name": "stdout",
     "output_type": "stream",
     "text": [
      "Requirement already satisfied: scikit-learn in /usr/local/lib/python3.10/dist-packages (1.5.2)\n",
      "Requirement already satisfied: numpy>=1.19.5 in /usr/local/lib/python3.10/dist-packages (from scikit-learn) (1.26.0)\n",
      "Requirement already satisfied: scipy>=1.6.0 in /usr/local/lib/python3.10/dist-packages (from scikit-learn) (1.14.0)\n",
      "Requirement already satisfied: joblib>=1.2.0 in /usr/local/lib/python3.10/dist-packages (from scikit-learn) (1.4.2)\n",
      "Requirement already satisfied: threadpoolctl>=3.1.0 in /usr/local/lib/python3.10/dist-packages (from scikit-learn) (3.5.0)\n",
      "\u001b[33mWARNING: Running pip as the 'root' user can result in broken permissions and conflicting behaviour with the system package manager, possibly rendering your system unusable.It is recommended to use a virtual environment instead: https://pip.pypa.io/warnings/venv. Use the --root-user-action option if you know what you are doing and want to suppress this warning.\u001b[0m\u001b[33m\n",
      "\u001b[0m\n",
      "\u001b[1m[\u001b[0m\u001b[34;49mnotice\u001b[0m\u001b[1;39;49m]\u001b[0m\u001b[39;49m A new release of pip is available: \u001b[0m\u001b[31;49m24.1.2\u001b[0m\u001b[39;49m -> \u001b[0m\u001b[32;49m24.2\u001b[0m\n",
      "\u001b[1m[\u001b[0m\u001b[34;49mnotice\u001b[0m\u001b[1;39;49m]\u001b[0m\u001b[39;49m To update, run: \u001b[0m\u001b[32;49mpython3 -m pip install --upgrade pip\u001b[0m\n",
      "Note: you may need to restart the kernel to use updated packages.\n"
     ]
    }
   ],
   "source": [
    "pip install scikit-learn"
   ]
  },
  {
   "cell_type": "code",
   "execution_count": 47,
   "id": "36aa1d5e-df50-4bca-bf01-92e99af7e250",
   "metadata": {},
   "outputs": [],
   "source": [
    "from mpl_toolkits.mplot3d import Axes3D\n",
    "from sklearn.linear_model import LinearRegression\n",
    "from sklearn.decomposition import PCA\n",
    "from utils.extractors import filter_spikes_parallel"
   ]
  },
  {
   "cell_type": "markdown",
   "id": "bc7dea9c-7075-43d8-81ae-e0c3d7a9b60e",
   "metadata": {},
   "source": [
    "# Functions for the code"
   ]
  },
  {
   "cell_type": "markdown",
   "id": "81801c13-afba-471a-a08f-f73447d9055e",
   "metadata": {},
   "source": [
    "# Introduction to Spiking Neural Networks"
   ]
  },
  {
   "cell_type": "markdown",
   "id": "5166b41a-7b33-42ef-ac85-711ed334914a",
   "metadata": {},
   "source": [
    "In order to start doing the standard Brunel balanced random network. This network is composed of a sparsely connected excitatory and inhibitory integrate-and-fire neurons. It can switch between asynchronous and syncrhonous states.\n",
    "\n",
    "\n",
    "[1]: Brunel N (2000). Dynamics of sparsely connected networks of excitatory and inhibitory spiking neurons. Journal of Computational Neuroscience 8, 183-208."
   ]
  },
  {
   "cell_type": "code",
   "execution_count": 48,
   "id": "fca8753b-f475-4148-9754-f303b84fd3c9",
   "metadata": {},
   "outputs": [],
   "source": [
    "def bin_spikes(spikes, bin_width, min_time):\n",
    "    senders = spikes.events['senders']\n",
    "    times = spikes.events['times']\n",
    "    \n",
    "    # Create a dictionary to hold spike times for each neuron\n",
    "    spike_times_by_neuron = {}\n",
    "    \n",
    "    # Iterate over senders and times\n",
    "    for sender, time in zip(senders, times):\n",
    "        if sender not in spike_times_by_neuron:\n",
    "            spike_times_by_neuron[sender] = []  # Initialize list if neuron not yet present\n",
    "        spike_times_by_neuron[sender].append(time)\n",
    "    \n",
    "    binned_spike_counts = {}\n",
    "    # Find the global min and max times for the bins\n",
    "    max_time = max(times)\n",
    "    \n",
    "    # Define bins: from min_time to max_time in steps of 5 ms\n",
    "    bins = np.arange(min_time, max_time + bin_width, bin_width)\n",
    "    \n",
    "    # Iterate over each neuron and bin their spike times\n",
    "    for neuron, spike_times in spike_times_by_neuron.items():\n",
    "        # Use np.histogram to bin the spike times for the current neuron\n",
    "        counts, _ = np.histogram(spike_times, bins=bins)\n",
    "        \n",
    "        # Store the binned spike counts for each neuron\n",
    "        binned_spike_counts[neuron] = counts\n",
    "\n",
    "    # Get the number of neurons and the number of bins\n",
    "    neuron_ids = list(binned_spike_counts.keys())\n",
    "    num_neurons = len(neuron_ids)\n",
    "    num_bins = len(next(iter(binned_spike_counts.values())))  # Get the number of bins from the first neuron's data\n",
    "    \n",
    "    # Create a 2D array to hold the binned counts\n",
    "    heatmap_data = np.zeros((num_neurons, num_bins))\n",
    "    \n",
    "    # Fill the heatmap data array\n",
    "    for i, neuron in enumerate(neuron_ids):\n",
    "        heatmap_data[i, :] = binned_spike_counts[neuron]\n",
    "\n",
    "    return binned_spike_counts, heatmap_data"
   ]
  },
  {
   "cell_type": "code",
   "execution_count": 49,
   "id": "5d227471-6f5e-4d00-8cee-f5f424c590c6",
   "metadata": {},
   "outputs": [],
   "source": [
    "def average_correlation(matrix, num_pairs, seed=None):\n",
    "    if seed is not None:\n",
    "        np.random.seed(seed)  # Set the random seed for reproducibility\n",
    "\n",
    "    # Randomly select unique pairs of rows\n",
    "    num_rows = matrix.shape[0]\n",
    "    if num_pairs > (num_rows * (num_rows - 1)) // 2:\n",
    "        raise ValueError(\"num_pairs exceeds the number of unique pairs of rows.\")\n",
    "    # Randomly select 500 unique pairs of rows\n",
    "    num_rows = matrix.shape[0]\n",
    "    selected_pairs = set()\n",
    "    while len(selected_pairs) < num_pairs:\n",
    "        row1 = np.random.randint(0, num_rows)\n",
    "        row2 = np.random.randint(0, num_rows)\n",
    "        # Ensure that we don't select the same row for both pairs (no autocorrelation)\n",
    "        if row1 != row2:\n",
    "            selected_pairs.add((row1, row2))\n",
    "    \n",
    "    # Compute the correlation for each selected pair\n",
    "    correlations = []\n",
    "    for row1, row2 in selected_pairs:\n",
    "        corr, _ = pearsonr(matrix[row1], matrix[row2])\n",
    "        correlations.append(corr)\n",
    "    \n",
    "    # Average the correlations\n",
    "    average_correlation = np.mean(correlations)\n",
    "    return average_correlation"
   ]
  },
  {
   "cell_type": "code",
   "execution_count": 50,
   "id": "2b8e8c71-328b-4dff-81b2-5af3db9d9414",
   "metadata": {},
   "outputs": [],
   "source": [
    "def calculate_cv(spike_times):\n",
    "    \"\"\"\n",
    "    Calculate the coefficient of variation (CV) for a given neuron's spike times.\n",
    "    \n",
    "    Parameters:\n",
    "    spike_times (list of float): List of spike times for a neuron.\n",
    "    \n",
    "    Returns:\n",
    "    float: Coefficient of variation.\n",
    "    \"\"\"\n",
    "    if len(spike_times) < 2:\n",
    "        return 0.0  # CV is not defined for less than 2 spikes\n",
    "    \n",
    "    isi = np.diff(spike_times)  # Inter-spike intervals\n",
    "    mean_isi = np.mean(isi)\n",
    "    std_isi = np.std(isi)\n",
    "    \n",
    "    cv = std_isi / mean_isi\n",
    "    return cv\n",
    "\n",
    "def collect_cvs(spikes):\n",
    "    \"\"\"\n",
    "    Collect the CVs for all neurons.\n",
    "    \n",
    "    Parameters:\n",
    "    spikes (list of list of float): List of spike times for each neuron.\n",
    "    \n",
    "    Returns:\n",
    "    list of float: List of CVs for each neuron.\n",
    "    \"\"\"\n",
    "    cvs = [calculate_cv(spike_times) for spike_times in spikes]\n",
    "    return cvs\n",
    "\n",
    "def plot_cv_distribution(cvs, title):\n",
    "    \"\"\"\n",
    "    Plot the distribution of CVs.\n",
    "    \n",
    "    Parameters:\n",
    "    cvs (list of float): List of CVs for each neuron.\n",
    "    title (str): Title for the plot.\n",
    "    \"\"\"\n",
    "    plt.hist(cvs, bins=30, edgecolor='black')\n",
    "    plt.xlabel('Coefficient of Variation (CV)')\n",
    "    plt.ylabel('Frequency')\n",
    "    plt.title(title)\n",
    "    plt.show()\n",
    "\n",
    "\n",
    "# Group spike times by neuron ID\n",
    "def group_spike_times_by_neuron(spikes):\n",
    "    senders = spikes['senders']\n",
    "    times = spikes['times']\n",
    "    spike_dict = {}\n",
    "    for sender, time in zip(senders, times):\n",
    "        if sender not in spike_dict:\n",
    "            spike_dict[sender] = []\n",
    "        spike_dict[sender].append(time)\n",
    "    return spike_dict"
   ]
  },
  {
   "cell_type": "code",
   "execution_count": 51,
   "id": "2d348216-9acb-40ee-930f-5e8285c1219e",
   "metadata": {},
   "outputs": [],
   "source": [
    "def compute_capacity(x, z):\n",
    "    \"\"\"\n",
    "    Compute capacity to reconstruct z based on linearly combining x\n",
    "\n",
    "    Parameters\n",
    "    ----------\n",
    "    x : np.ndarray\n",
    "        state matrix(NxT)\n",
    "    z : np.ndarray\n",
    "        target output (1xT)\n",
    "\n",
    "    Returns\n",
    "    -------\n",
    "    z_hat : np.ndarray\n",
    "        Reconstructed (predicted) signal\n",
    "\n",
    "    \"\"\"\n",
    "    reg = LinearRegression(n_jobs=-1, fit_intercept=False).fit(x.T, z)\n",
    "    W_out = reg.coef_\n",
    "    z_hat = np.dot(W_out, x)\n",
    "\n",
    "    covs = np.cov(z_hat, z)[0, 1] ** 2.0\n",
    "    vars = np.var(z) * np.var(z_hat)\n",
    "    capacity = covs / vars\n",
    "\n",
    "    error = np.mean((z - z_hat) ** 2)\n",
    "    return z_hat, capacity, error"
   ]
  },
  {
   "cell_type": "code",
   "execution_count": 52,
   "id": "5f95e585-ff7f-41f8-a51f-d485fd9a9384",
   "metadata": {},
   "outputs": [],
   "source": [
    "def filter_spikes_parallel(spike_times, neuron_ids, n_neurons, t_start, t_stop, dt, tau, n_processes):\n",
    "    \"\"\"\n",
    "    Returns an NxT matrix where each row represents the filtered spiking activity of\n",
    "    one neuron and the columns represent time...\n",
    "\n",
    "    Inputs:\n",
    "        - spike_times - list of spike times\n",
    "        - neuron_ids - list of spike ids\n",
    "        - dt - time step\n",
    "        - tau - kernel time constant\n",
    "        - n_processes - number of processes to use for parallel computation\n",
    "        - show_progess - if True a progress bar is printed\n",
    "    \"\"\"\n",
    "    spk_times_list = order_array_by_ids(spike_times, n_neurons, neuron_ids)\n",
    "    arg_list = [\n",
    "        {\n",
    "            \"spike_times\": spkt,\n",
    "            \"t_start\": t_start,\n",
    "            \"t_stop\": t_stop,\n",
    "            \"dt\": dt,\n",
    "            \"tau\": tau,\n",
    "        }\n",
    "        for spkt in spk_times_list\n",
    "    ]\n",
    "    with Pool(n_processes) as p:\n",
    "        state_mat = list(\n",
    "            tqdm(p.imap(spikes_to_states_from_dict, arg_list), desc=\"Filtering SpikeTrains\", total=n_neurons)\n",
    "        )\n",
    "\n",
    "    return np.array(state_mat)\n"
   ]
  },
  {
   "cell_type": "markdown",
   "id": "c166b4ba-2aa4-4259-940a-c0aab15bbf84",
   "metadata": {},
   "source": [
    "## 1. Stationary Spiking Neural Network - Homogenous Poisson Process"
   ]
  },
  {
   "cell_type": "code",
   "execution_count": 84,
   "id": "11d0cbbb-00c0-4d67-baba-86d14c482ddb",
   "metadata": {},
   "outputs": [],
   "source": [
    "#Simulation Parameters\n",
    "dt = 0.1  # simulation resolution\n",
    "sim_time = 25000. # simulation time [ms] (for each epoch)\n",
    "num_threads = 8"
   ]
  },
  {
   "cell_type": "code",
   "execution_count": 85,
   "id": "e5cadad4-7cfc-408c-a41e-8723f1d7214e",
   "metadata": {},
   "outputs": [],
   "source": [
    "#Initialize NEST\n",
    "seed = 1\n",
    "np.random.seed(seed)\n",
    "nest.ResetKernel()\n",
    "nest.SetKernelStatus({\n",
    "    'rng_seed': seed,\n",
    "    'resolution': dt,\n",
    "    'print_time': True,\n",
    "    'local_num_threads': num_threads})"
   ]
  },
  {
   "cell_type": "markdown",
   "id": "1c59a6a4-ae3a-4679-a3a5-e04553ee5438",
   "metadata": {},
   "source": [
    "#### 1.1 Create Neural Models and Network"
   ]
  },
  {
   "cell_type": "markdown",
   "id": "0d3958a0-8cc7-4ff6-92ff-1c93ac24fcf6",
   "metadata": {},
   "source": [
    "Leaky integrate-and-fire model where the potential jumps on each spike arrival. The threshold crossing is followed by an absolute refractory period during which the membrane potential is clamped to the resting potential. Spikes arriving while the neuron is refractory, are discarded by default.\n",
    "\n",
    "References:\n",
    "\n",
    "[1] Rotter S, Diesmann M (1999). Exact simulation of time-invariant linear systems with applications to neuronal modeling. Biologial Cybernetics 81:381-402. DOI: https://doi.org/10.1007/s004220050570\n",
    "\n",
    "[2] Diesmann M, Gewaltig M-O, Rotter S, & Aertsen A (2001). State space analysis of synchronous spiking in cortical neural networks. Neurocomputing 38-40:565-571. DOI: https://doi.org/10.1016/S0925-2312(01)00409-X"
   ]
  },
  {
   "cell_type": "code",
   "execution_count": 86,
   "id": "06568e77-b318-4823-8cdf-83f02c9a6ca4",
   "metadata": {},
   "outputs": [],
   "source": [
    "#### PARAMETERS ###\n",
    "# network parameters\n",
    "gamma = 0.25               # relative number of inhibitory connections\n",
    "NE = 1000                  # number of excitatory neurons (10.000 in [1])\n",
    "NI = int(gamma * NE)       # number of inhibitory neurons\n",
    "CE = 100                   # indegree from excitatory neurons\n",
    "CI = int(gamma * CE)       # indegree from inhibitory neurons\n",
    "\n",
    "# synapse parameters\n",
    "w = 0.1                    # excitatory synaptic weight (mV)\n",
    "w *= np.sqrt(10)           # normalized to the number of neurons we have\n",
    "g = 6.                     # relative inhibitory to excitatory synaptic weight\n",
    "d = 1.5                    # synaptic transmission delay (ms)\n",
    "\n",
    "# neuron paramters\n",
    "neuron_params = {\n",
    "    'C_m': 1.0,            # membrane capacity (pF)\n",
    "    'E_L': 0.,             # resting membrane potential (mV)\n",
    "    'I_e': 0.,             # external input current (pA)\n",
    "    'V_m': 0.,             # membrane potential (mV)\n",
    "    'V_reset': 10.,        # reset membrane potential after a spike (mV)\n",
    "    'V_th': 20.,           # spike threshold (mV)\n",
    "    't_ref': 2.0,          # refractory period (ms)\n",
    "    'tau_m': 20.,          # membrane time constant (ms)\n",
    "}"
   ]
  },
  {
   "cell_type": "code",
   "execution_count": 87,
   "id": "9f800e6c-ed08-474f-bd92-8d08eb3b3f90",
   "metadata": {},
   "outputs": [],
   "source": [
    "# set default parameters for neurons and create neurons\n",
    "nest.SetDefaults('iaf_psc_delta', neuron_params) #tau_minus we need to add or is already added?\n",
    "#also do we need to enable the refractory period\n",
    "\n",
    "neurons_e = nest.Create('iaf_psc_delta', NE) #create excitatory neurons\n",
    "neurons_i = nest.Create('iaf_psc_delta', NI) #create inhibitory neurons\n",
    "\n",
    "# create spike detectors\n",
    "spikes_e = nest.Create('spike_recorder')"
   ]
  },
  {
   "cell_type": "code",
   "execution_count": 88,
   "id": "cf11f333-bbd0-4fbd-a282-305aa83f3d24",
   "metadata": {},
   "outputs": [],
   "source": [
    "#Connect Network\n",
    "\n",
    "# E synapses\n",
    "syn_exc = {'delay': d, 'weight': w}\n",
    "conn_exc = {'rule': 'fixed_indegree', 'indegree': CE}\n",
    "nest.Connect(neurons_e, neurons_e, conn_exc, syn_exc)\n",
    "nest.Connect(neurons_e, neurons_i, conn_exc, syn_exc)\n",
    "\n",
    "# I synapses\n",
    "syn_inh = {'delay': d, 'weight': - g * w}\n",
    "conn_inh = {'rule': 'fixed_indegree', 'indegree': CI}\n",
    "nest.Connect(neurons_i, neurons_e, conn_inh, syn_inh)\n",
    "nest.Connect(neurons_i, neurons_i, conn_inh, syn_inh)\n",
    "\n",
    "# spike detector\n",
    "nest.Connect(neurons_e, spikes_e)"
   ]
  },
  {
   "cell_type": "markdown",
   "id": "8e9147a4-29fc-4c5a-8ae6-73ab8da3b31b",
   "metadata": {},
   "source": [
    "#### 1.2 Generate Input and Connect to excitatory connection weight"
   ]
  },
  {
   "cell_type": "code",
   "execution_count": 89,
   "id": "847dc22e-9fa9-458d-b20b-d1ad3c8e351e",
   "metadata": {},
   "outputs": [],
   "source": [
    "# external input parameters (background noise)\n",
    "V_th = 20.           # spike threshold (mV)\n",
    "tau_m = 20.          # membrane time constant (ms)\n",
    "\n",
    "nu_th = V_th / (w * CE * tau_m) # external rate needed to evoke activity (spikes/ms)\n",
    "nu_ex = 1.0 * nu_th             # set external rate above threshold\n",
    "p_rate = 1e3 * nu_ex * CE       # external rate (spikes/s)\n",
    "\n",
    "# create poisson generator (noise phase)\n",
    "noise_pgen = nest.Create('poisson_generator', params={'rate': p_rate, 'stop': sim_time})\n",
    "\n",
    "# connect poisson generator using the excitatory connection weight\n",
    "nest.Connect(noise_pgen, neurons_i, syn_spec=syn_exc)\n",
    "nest.Connect(noise_pgen, neurons_e, syn_spec=syn_exc)"
   ]
  },
  {
   "cell_type": "code",
   "execution_count": 91,
   "id": "f56ff287-4396-4b4e-9bc5-8f39d7dfb24d",
   "metadata": {},
   "outputs": [],
   "source": [
    "spikes_E_noise = nest.Create('spike_recorder')\n",
    "spikes_E_noise.stop = sim_time\n",
    "spikes_I_noise = nest.Create('spike_recorder')\n",
    "spikes_I_noise.stop = sim_time\n",
    "\n",
    "vm = nest.Create('multimeter', 1, {'record_from': ['V_m'], 'interval': dt})\n",
    "\n",
    "# connect neurons to spike detectors\n",
    "nest.Connect(neurons_e, spikes_E_noise)\n",
    "nest.Connect(neurons_i, spikes_I_noise)\n",
    "nest.Connect(vm, neurons_e)"
   ]
  },
  {
   "cell_type": "markdown",
   "id": "fdaa058a-ad53-49f0-96bd-1d646971ae3f",
   "metadata": {},
   "source": [
    "#### 1.3 Simulate and Analyse"
   ]
  },
  {
   "cell_type": "code",
   "execution_count": 92,
   "id": "264bbc03-9861-4a71-8595-e211dbf56492",
   "metadata": {},
   "outputs": [
    {
     "name": "stdout",
     "output_type": "stream",
     "text": [
      "Mean firing rate: 12.411439999999999 Hz (E: 12.29328 Hz, I: 12.5296 Hz)\n"
     ]
    }
   ],
   "source": [
    "# simulate (noise-driven phase)\n",
    "nest.Simulate(sim_time) \n",
    "\n",
    "# calculate mean firing rate in spikes per second\n",
    "events_ex = nest.GetStatus(spikes_E_noise, 'n_events')[0]\n",
    "events_in = nest.GetStatus(spikes_I_noise, 'n_events')[0]\n",
    "rate_ex = events_ex / sim_time / NE * 1e3\n",
    "rate_in = events_in / sim_time / NI * 1e3\n",
    "mean_rate = (rate_ex + rate_in) / 2.\n",
    "print('Mean firing rate: {} Hz (E: {} Hz, I: {} Hz)'.format(mean_rate, rate_ex, rate_in))"
   ]
  },
  {
   "cell_type": "markdown",
   "id": "4ab8182f-4cba-49fa-a6fe-e4e1c8732b09",
   "metadata": {},
   "source": [
    "#### 1.4 Raster Plot"
   ]
  },
  {
   "cell_type": "code",
   "execution_count": 93,
   "id": "719cf003-30d9-4850-be48-62368d880ce9",
   "metadata": {},
   "outputs": [
    {
     "data": {
      "image/png": "[encoded data removed]",
      "text/plain": [
       "<Figure size 432x288 with 2 Axes>"
      ]
     },
     "metadata": {
      "needs_background": "light"
     },
     "output_type": "display_data"
    },
    {
     "data": {
      "image/png": "[encoded data removed]",
      "text/plain": [
       "<Figure size 432x288 with 2 Axes>"
      ]
     },
     "metadata": {
      "needs_background": "light"
     },
     "output_type": "display_data"
    }
   ],
   "source": [
    "# raster plot of spiking activity using nest.raster_plot\n",
    "nest.raster_plot.from_device(spikes_E_noise, hist=True)\n",
    "axes = plt.gcf().get_axes()\n",
    "\n",
    "# Adjust xlim for each plot (you can iterate and apply limits)\n",
    "for ax in axes:\n",
    "    ax.set_xlim(8000, 9000)  # Set the x-axis limits for all subplots\n",
    "    \n",
    "nest.raster_plot.from_device(spikes_I_noise, hist=True)\n",
    "# Get all subplot axes\n",
    "axes = plt.gcf().get_axes()\n",
    "\n",
    "# Adjust xlim for each plot (you can iterate and apply limits)\n",
    "for ax in axes:\n",
    "    ax.set_xlim(8000, 9000)  # Set the x-axis limits for all subplots\n",
    "\n",
    "# Finally, display the modified plot\n",
    "plt.show()"
   ]
  },
  {
   "cell_type": "markdown",
   "id": "c5b615dc-1781-4f57-9834-cd5e07d5e928",
   "metadata": {},
   "source": [
    "#### 1.5 Spike Bin and Average Correlation"
   ]
  },
  {
   "cell_type": "code",
   "execution_count": 94,
   "id": "26f9e447-85d0-4020-897c-1211a9ef8c25",
   "metadata": {},
   "outputs": [],
   "source": [
    "binned_spike_counts,heatmap_data = bin_spikes(spikes_E_noise, bin_width = 5, min_time=5000)"
   ]
  },
  {
   "cell_type": "code",
   "execution_count": 95,
   "id": "9cc3d12a-eee8-4fad-a6f3-c710aa962607",
   "metadata": {},
   "outputs": [
    {
     "name": "stdout",
     "output_type": "stream",
     "text": [
      "Average Correlation for 1000 pairs: 0.02514024626916994\n"
     ]
    }
   ],
   "source": [
    "num_pairs = 1000\n",
    "corr = average_correlation(heatmap_data, num_pairs)\n",
    "print(f'Average Correlation for {num_pairs} pairs: {corr}')"
   ]
  },
  {
   "cell_type": "code",
   "execution_count": 96,
   "id": "c61941ed-55ba-4434-9ba4-6096af9af509",
   "metadata": {},
   "outputs": [
    {
     "data": {
      "image/png": "[encoded data removed]",
      "text/plain": [
       "<Figure size 720x432 with 2 Axes>"
      ]
     },
     "metadata": {
      "needs_background": "light"
     },
     "output_type": "display_data"
    }
   ],
   "source": [
    "# Create the heatmap\n",
    "plt.figure(figsize=(10, 6))\n",
    "plt.imshow(heatmap_data, aspect='auto', cmap='hot', interpolation='nearest')\n",
    "plt.colorbar(label='Spike Counts')\n",
    "#plt.xticks(ticks=np.arange(num_bins), labels=[f'Bin {i+1}' for i in range(num_bins)])\n",
    "#plt.yticks(ticks=np.arange(num_neurons), labels=neuron_ids)\n",
    "plt.title('Binned Spike Counts Heatmap')\n",
    "plt.xlabel('Time Bins (5 ms each)')\n",
    "plt.ylabel('Neuron ID')\n",
    "plt.show()"
   ]
  },
  {
   "cell_type": "markdown",
   "id": "a71c918f-b538-4b6b-ab60-6d77f81e310b",
   "metadata": {},
   "source": [
    "#### 1.6 Coefficient of Variation"
   ]
  },
  {
   "cell_type": "code",
   "execution_count": 97,
   "id": "15e0ee4a-59a0-45d3-9631-49bffa70b6db",
   "metadata": {},
   "outputs": [
    {
     "name": "stdout",
     "output_type": "stream",
     "text": [
      "NodeCollection(metadata=None, model=spike_recorder, size=1, first=1253)\n",
      "307332\n",
      "NodeCollection(metadata=None, model=spike_recorder, size=1, first=1251)\n"
     ]
    },
    {
     "data": {
      "image/png": "[encoded data removed]",
      "text/plain": [
       "<Figure size 432x288 with 1 Axes>"
      ]
     },
     "metadata": {
      "needs_background": "light"
     },
     "output_type": "display_data"
    },
    {
     "data": {
      "image/png": "[encoded data removed]",
      "text/plain": [
       "<Figure size 432x288 with 1 Axes>"
      ]
     },
     "metadata": {
      "needs_background": "light"
     },
     "output_type": "display_data"
    },
    {
     "data": {
      "image/png": "[encoded data removed]",
      "text/plain": [
       "<Figure size 432x288 with 1 Axes>"
      ]
     },
     "metadata": {
      "needs_background": "light"
     },
     "output_type": "display_data"
    }
   ],
   "source": [
    "print(spikes_E_noise)\n",
    "print(events_ex)\n",
    "print(spikes_e)\n",
    "# Extract spike times from NEST simulation\n",
    "spikes_E_noise= nest.GetStatus(spikes_E_noise, 'events')[0]\n",
    "spikes_I_noise= nest.GetStatus(spikes_I_noise, 'events')[0]\n",
    "spike_times_E = group_spike_times_by_neuron(spikes_E_noise)\n",
    "spike_times_I = group_spike_times_by_neuron(spikes_I_noise)\n",
    "\n",
    "# Convert the spike times dictionary to a list of lists\n",
    "neurons_spike_times_E = list(spike_times_E.values())\n",
    "neurons_spike_times_I = list(spike_times_I.values())\n",
    "\n",
    "# Collect CVs for excitatory and inhibitory neurons separately\n",
    "cvs_E = collect_cvs(neurons_spike_times_E)\n",
    "cvs_I = collect_cvs(neurons_spike_times_I)\n",
    "\n",
    "\n",
    "# Plot the distribution of CVs for excitatory neurons\n",
    "plot_cv_distribution(cvs_E, 'Distribution of Coefficient of Variation (CV) for Excitatory Neurons')\n",
    "\n",
    "# Plot the distribution of CVs for inhibitory neurons\n",
    "plot_cv_distribution(cvs_I, 'Distribution of Coefficient of Variation (CV) for Inhibitory Neurons')\n",
    "\n",
    "# Combine CVs and plot the distribution for both\n",
    "cvs_combined = cvs_E + cvs_I\n",
    "plot_cv_distribution(cvs_combined, 'Distribution of Coefficient of Variation (CV) for All Neurons')"
   ]
  },
  {
   "cell_type": "markdown",
   "id": "ae886ce2-1d4c-4a77-b0c0-8abcf5389281",
   "metadata": {},
   "source": [
    "#### 1.7 Memory Capacity"
   ]
  },
  {
   "cell_type": "code",
   "execution_count": null,
   "id": "b5e29125-739c-47d5-8db3-fc906db583d7",
   "metadata": {},
   "outputs": [],
   "source": [
    "activity = vm.events\n",
    "indices = np.sort(np.unique(activity['senders']))\n",
    "time=int(sim_time/dt)\n",
    "print(time)\n",
    "states = np.zeros((NE, time))\n",
    "for idx, i in enumerate(indices):\n",
    "    states[idx, :] = activity['V_m'][np.where(activity['senders']==i)[0]]"
   ]
  },
  {
   "cell_type": "code",
   "execution_count": 82,
   "id": "afdd5468-42f7-479b-bb93-329b51060267",
   "metadata": {},
   "outputs": [
    {
     "name": "stderr",
     "output_type": "stream",
     "text": [
      "/usr/local/lib/python3.10/dist-packages/sklearn/decomposition/_pca.py:653: RuntimeWarning:invalid value encountered in divide\n"
     ]
    },
    {
     "data": {
      "text/plain": [
       "[<mpl_toolkits.mplot3d.art3d.Line3D at 0x7f86444ffdc0>]"
      ]
     },
     "execution_count": 82,
     "metadata": {},
     "output_type": "execute_result"
    },
    {
     "data": {
      "image/png": "[encoded data removed]",
      "text/plain": [
       "<Figure size 432x288 with 2 Axes>"
      ]
     },
     "metadata": {
      "needs_background": "light"
     },
     "output_type": "display_data"
    }
   ],
   "source": [
    "fig = plt.figure()\n",
    "ax1 = fig.add_subplot(121)\n",
    "ax1.imshow(states, aspect='auto')\n",
    "ax2 = fig.add_subplot(122, projection='3d')\n",
    "pca_fit = PCA(n_components=np.shape(states)[0])\n",
    "X = pca_fit.fit_transform(states.T)\n",
    "ax2.plot(X[:, 0], X[:, 1], X[:, 2], color='k', lw=1)"
   ]
  },
  {
   "cell_type": "markdown",
   "id": "5597975f-a160-4ee0-a8ca-c1c1b22123a6",
   "metadata": {},
   "source": [
    "# 2. Stationary Spiking Neural Network - Inhomogenous Poisson Process (Stimulus)"
   ]
  },
  {
   "cell_type": "markdown",
   "id": "eb136ded-7dba-4848-9d1d-babdaed18dc9",
   "metadata": {},
   "source": [
    "We need to introduce a basal homogenous poisson process stimulus if not the stimulus driven input if reaches zero will imply a zero input into the netwrok, therefore, no firing and continuation"
   ]
  },
  {
   "cell_type": "code",
   "execution_count": null,
   "id": "61983757-58f9-4ce4-a8ca-2331d222a73e",
   "metadata": {},
   "outputs": [],
   "source": [
    "#Initialize NEST\n",
    "seed = 1\n",
    "np.random.seed(seed)\n",
    "nest.ResetKernel()\n",
    "nest.SetKernelStatus({\n",
    "    'rng_seed': seed,\n",
    "    'resolution': dt,\n",
    "    'print_time': True,\n",
    "    'local_num_threads': num_threads})"
   ]
  },
  {
   "cell_type": "markdown",
   "id": "f916572b-89b5-44c1-acf6-03313d8d65db",
   "metadata": {},
   "source": [
    "#### 2.1 Create Neural Models and Network"
   ]
  },
  {
   "cell_type": "code",
   "execution_count": null,
   "id": "67839eb5-5699-4049-a730-1bb8435e9433",
   "metadata": {},
   "outputs": [],
   "source": [
    "#### PARAMETERS ###\n",
    "sim_time = 25000. # simulation time [ms] (for each epoch)\n",
    "# network parameters\n",
    "gamma = 0.25               # relative number of inhibitory connections\n",
    "NE = 1000                  # number of excitatory neurons (10.000 in [1])\n",
    "NI = int(gamma * NE)       # number of inhibitory neurons\n",
    "CE = 100                   # indegree from excitatory neurons (From 200 to 100)\n",
    "CI = int(gamma * CE)       # indegree from inhibitory neurons\n",
    "\n",
    "# synapse parameters\n",
    "w = 0.1                    # excitatory synaptic weight (mV)\n",
    "w *= np.sqrt(10)           # normalized to the number of neurons we have\n",
    "g = 6.                     # relative inhibitory to excitatory synaptic weight (changed from 5 to 7)\n",
    "d = 1.5                    # synaptic transmission delay (ms)\n",
    "\n",
    "# neuron paramters\n",
    "neuron_params = {\n",
    "    'C_m': 1.0,            # membrane capacity (pF)\n",
    "    'E_L': 0.,             # resting membrane potential (mV)\n",
    "    'I_e': 0.,             # external input current (pA)\n",
    "    'V_m': 0.,             # membrane potential (mV)\n",
    "    'V_reset': 10.,        # reset membrane potential after a spike (mV)\n",
    "    'V_th': 20.,           # spike threshold (mV)\n",
    "    't_ref': 2.0,          # refractory period (ms)\n",
    "    'tau_m': 20.,          # membrane time constant (ms)\n",
    "}"
   ]
  },
  {
   "cell_type": "code",
   "execution_count": null,
   "id": "bff0cc99-9a72-46fd-9325-e82c373472e3",
   "metadata": {},
   "outputs": [],
   "source": [
    "# set default parameters for neurons and create neurons\n",
    "nest.SetDefaults('iaf_psc_delta', neuron_params) #tau_minus we need to add or is already added?\n",
    "#also do we need to enable the refractory period\n",
    "\n",
    "neurons_e = nest.Create('iaf_psc_delta', NE) #create excitatory neurons\n",
    "neurons_i = nest.Create('iaf_psc_delta', NI) #create inhibitory neurons\n",
    "\n",
    "# create spike detectors\n",
    "spikes_e = nest.Create('spike_recorder')"
   ]
  },
  {
   "cell_type": "code",
   "execution_count": null,
   "id": "7c7681a5-c67d-4806-9acd-0a55fee1ec0a",
   "metadata": {},
   "outputs": [],
   "source": [
    "syn_exc = {'delay': d, 'weight': w}\n",
    "conn_exc = {'rule': 'fixed_indegree', 'indegree': CE}\n",
    "nest.Connect(neurons_e, neurons_e, conn_exc, syn_exc)\n",
    "nest.Connect(neurons_e, neurons_i, conn_exc, syn_exc)\n",
    "\n",
    "# I synapses\n",
    "syn_inh = {'delay': d, 'weight': - g * w}\n",
    "conn_inh = {'rule': 'fixed_indegree', 'indegree': CI}\n",
    "nest.Connect(neurons_i, neurons_e, conn_inh, syn_inh)\n",
    "nest.Connect(neurons_i, neurons_i, conn_inh, syn_inh)\n",
    "# spike detector\n",
    "#nest.Connect(neurons_e, spikes_e)"
   ]
  },
  {
   "cell_type": "markdown",
   "id": "15eb137a-4184-46c9-ab13-83d039bc3b91",
   "metadata": {},
   "source": [
    "#### 2.2 Generate Input and Connect to excitatory connection weight"
   ]
  },
  {
   "cell_type": "code",
   "execution_count": null,
   "id": "9f31d666-7ea1-4c2a-8629-f340c7e9774e",
   "metadata": {},
   "outputs": [],
   "source": [
    "# external input (stimulus)\n",
    "p_rate = 1e3 * nu_ex * CE       # external rate (spikes/s)\n",
    "step_duration = 20.    # [ms]\n",
    "scale = p_rate/2    # scale input amplitude (max. rate)\n",
    "stim_time=5000\n",
    "sig, times, inp_times, inp_amplitudes = generate_piecewise_constant_signal(seed=seed, \n",
    "                                                                           num_steps=int(sim_time/step_duration), step_duration=step_duration, resolution=dt, scale=scale)\n",
    "inp_times += stim_time  # stimulus starts after the noise phase\n",
    "\n",
    "inp_amplitudes *= 2"
   ]
  },
  {
   "cell_type": "code",
   "execution_count": null,
   "id": "380cd2a5-fdd3-4911-ba19-0a9e20ffa570",
   "metadata": {},
   "outputs": [],
   "source": [
    "# visualize example input stimulus\n",
    "fig, ax = plt.subplots()\n",
    "ax.plot(inp_times, inp_amplitudes)\n",
    "#ax.set_xlim([0, 1000])\n",
    "ax.set_xlabel(r'Time [ms]')\n",
    "ax.set_ylabel(r'Amplitude')\n",
    "ax.set_title(r'$u(t)$')"
   ]
  },
  {
   "cell_type": "code",
   "execution_count": null,
   "id": "19d27304-8c85-407e-a9a9-2f4ff3da3945",
   "metadata": {},
   "outputs": [],
   "source": [
    "#create poisson generator (basal noise phase)\n",
    "noise_pgen = nest.Create('poisson_generator', params={'rate': p_rate, 'stop': stim_time})\n",
    "\n",
    "# create inhomogeneous poisson generator (time-dependent input signal)\n",
    "stim_pgen = nest.Create('inhomogeneous_poisson_generator', 1)\n",
    "nest.SetStatus(stim_pgen, params={'rate_times': inp_times, 'rate_values': inp_amplitudes})\n",
    "\n",
    "\n",
    "# connect poisson generator using the excitatory connection weight\n",
    "nest.Connect(noise_pgen, neurons_i, syn_spec=syn_exc)\n",
    "nest.Connect(noise_pgen, neurons_e, syn_spec=syn_exc)\n",
    "\n",
    "nest.Connect(stim_pgen, neurons_e, syn_spec=syn_exc)\n",
    "nest.Connect(stim_pgen, neurons_i, syn_spec=syn_exc)"
   ]
  },
  {
   "cell_type": "code",
   "execution_count": null,
   "id": "a05656bf-a86c-4f28-9c08-f4afb965c9b0",
   "metadata": {},
   "outputs": [],
   "source": [
    "spikes_E_stim  = nest.Create('spike_recorder')\n",
    "spikes_I_stim  = nest.Create('spike_recorder')\n",
    "\n",
    "# connect neurons to spike detectors\n",
    "nest.Connect(neurons_e, spikes_E_stim)\n",
    "nest.Connect(neurons_i, spikes_I_stim)"
   ]
  },
  {
   "cell_type": "markdown",
   "id": "2c5d4ec9-30fc-4691-af9f-dd08a4f05f5f",
   "metadata": {},
   "source": [
    "#### 2.3 Simulate and Analyse"
   ]
  },
  {
   "cell_type": "code",
   "execution_count": null,
   "id": "7cf9d0b7-36bc-47f2-a670-31b069dde822",
   "metadata": {},
   "outputs": [],
   "source": [
    "# simulate (stimulus-driven phase)\n",
    "nest.Simulate(sim_time) \n",
    "\n",
    "# calculate mean firing rate in spikes per second\n",
    "events_ex = nest.GetStatus(spikes_E_stim, 'n_events')[0]\n",
    "events_in = nest.GetStatus(spikes_I_stim, 'n_events')[0]\n",
    "rate_ex = events_ex / sim_time / NE * 1e3\n",
    "rate_in = events_in / sim_time / NI * 1e3\n",
    "mean_rate = (rate_ex + rate_in) / 2.\n",
    "print('Mean firing rate: {} Hz (E: {} Hz, I: {} Hz)'.format(mean_rate, rate_ex, rate_in))"
   ]
  },
  {
   "cell_type": "markdown",
   "id": "306d76ec-7c24-402c-ba11-c22a157c0b77",
   "metadata": {},
   "source": [
    "#### 2.4 Raster Plot"
   ]
  },
  {
   "cell_type": "code",
   "execution_count": null,
   "id": "a2543b18-fcab-498c-9c31-273c4cd6f082",
   "metadata": {},
   "outputs": [],
   "source": [
    "# raster plot of spiking activity using nest.raster_plot\n",
    "nest.raster_plot.from_device(spikes_E_stim, hist=True)\n",
    "axes = plt.gcf().get_axes()\n",
    "\n",
    "# Adjust xlim for each plot (you can iterate and apply limits)\n",
    "for ax in axes:\n",
    "    ax.set_xlim(8000, 9000)  # Set the x-axis limits for all subplots\n",
    "    \n",
    "nest.raster_plot.from_device(spikes_I_stim, hist=True)\n",
    "# Get all subplot axes\n",
    "axes = plt.gcf().get_axes()\n",
    "\n",
    "# Adjust xlim for each plot (you can iterate and apply limits)\n",
    "for ax in axes:\n",
    "    ax.set_xlim(8000, 9000)  # Set the x-axis limits for all subplots\n",
    "\n",
    "# Finally, display the modified plot\n",
    "plt.show()"
   ]
  },
  {
   "cell_type": "markdown",
   "id": "b61a6ded-0e6b-45b6-8aec-0b20a205d42f",
   "metadata": {},
   "source": [
    "#### 2.5 Spike Bin and Average Correlation"
   ]
  },
  {
   "cell_type": "code",
   "execution_count": null,
   "id": "be38c0a1-8bd8-4600-9325-442fd94e5abc",
   "metadata": {},
   "outputs": [],
   "source": [
    "binned_spike_counts,heatmap_data = bin_spikes(spikes_E_stim, bin_width = 5, min_time=5000)"
   ]
  },
  {
   "cell_type": "code",
   "execution_count": null,
   "id": "242ef541-f903-46f4-8ee8-4ed97b766669",
   "metadata": {},
   "outputs": [],
   "source": [
    "num_pairs = 1000\n",
    "corr = average_correlation(heatmap_data, num_pairs)\n",
    "print(f'Average Correlation for {num_pairs} pairs: {corr}')"
   ]
  },
  {
   "cell_type": "code",
   "execution_count": null,
   "id": "b89e034d-cc4b-425a-b7aa-1b729029e7aa",
   "metadata": {},
   "outputs": [],
   "source": [
    "# Create the heatmap\n",
    "plt.figure(figsize=(10, 6))\n",
    "plt.imshow(heatmap_data, aspect='auto', cmap='hot', interpolation='nearest')\n",
    "plt.colorbar(label='Spike Counts')\n",
    "#plt.xticks(ticks=np.arange(num_bins), labels=[f'Bin {i+1}' for i in range(num_bins)])\n",
    "#plt.yticks(ticks=np.arange(num_neurons), labels=neuron_ids)\n",
    "plt.title('Binned Spike Counts Heatmap')\n",
    "plt.xlabel('Time Bins (5 ms each)')\n",
    "plt.ylabel('Neuron ID')\n",
    "plt.show()"
   ]
  },
  {
   "cell_type": "markdown",
   "id": "cfe6d7a1-6771-474e-939d-59cccd252c50",
   "metadata": {},
   "source": [
    "# 3. Spiking Neural Network with Synapse Model - Synaptic Time Dependent Plasticity (STDP)"
   ]
  },
  {
   "cell_type": "code",
   "execution_count": null,
   "id": "820b2092-d0e7-4303-b959-a3a0c8a45be4",
   "metadata": {},
   "outputs": [],
   "source": [
    "#Initialize NEST\n",
    "seed = 1\n",
    "np.random.seed(seed)\n",
    "nest.ResetKernel()\n",
    "nest.SetKernelStatus({\n",
    "    'rng_seed': seed,\n",
    "    'resolution': dt,\n",
    "    'print_time': True,\n",
    "    'local_num_threads': num_threads})"
   ]
  },
  {
   "cell_type": "markdown",
   "id": "f9c903e2-54f1-49f1-8eb2-bba7c58425fe",
   "metadata": {},
   "source": [
    "#### 3.1 Create Neural Models And Network"
   ]
  },
  {
   "cell_type": "code",
   "execution_count": null,
   "id": "b4efbeb8-5b56-491e-a522-e12d25eb8d73",
   "metadata": {},
   "outputs": [],
   "source": [
    "#### PARAMETERS ###\n",
    "sim_time = 25000. # simulation time [ms] (for each epoch) Put it to 10000\n",
    "# network parameters\n",
    "gamma = 0.25               # relative number of inhibitory connections\n",
    "NE = 1000                  # number of excitatory neurons (10.000 in [1])\n",
    "NI = int(gamma * NE)       # number of inhibitory neurons\n",
    "CE = 100                   # indegree from excitatory neurons (From 200 to 100)\n",
    "CI = int(gamma * CE)       # indegree from inhibitory neurons\n",
    "\n",
    "# synapse parameters\n",
    "w = 0.1                    # excitatory synaptic weight (mV)\n",
    "w *= np.sqrt(10)           # normalized to the number of neurons we have\n",
    "g = 6.                     # relative inhibitory to excitatory synaptic weight (changed from 5 to 7)\n",
    "d = 1.5                    # synaptic transmission delay (ms)\n",
    "\n",
    "# neuron paramters\n",
    "neuron_params = {\n",
    "    'C_m': 1.0,            # membrane capacity (pF)\n",
    "    'E_L': 0.,             # resting membrane potential (mV)\n",
    "    'I_e': 0.,             # external input current (pA)\n",
    "    'V_m': 0.,             # membrane potential (mV)\n",
    "    'V_reset': 10.,        # reset membrane potential after a spike (mV)\n",
    "    'V_th': 20.,           # spike threshold (mV)\n",
    "    't_ref': 2.0,          # refractory period (ms)\n",
    "    'tau_m': 20.,          # membrane time constant (ms)\n",
    "}"
   ]
  },
  {
   "cell_type": "code",
   "execution_count": null,
   "id": "e9b9586a-c7d3-4c6c-b9ab-0d359b756279",
   "metadata": {},
   "outputs": [],
   "source": [
    "# set default parameters for neurons and create neurons\n",
    "nest.SetDefaults('iaf_psc_delta', neuron_params) #tau_minus we need to add or is already added?\n",
    "#also do we need to enable the refractory period\n",
    "\n",
    "neurons_e = nest.Create('iaf_psc_delta', NE) #create excitatory neurons\n",
    "neurons_i = nest.Create('iaf_psc_delta', NI) #create inhibitory neurons\n",
    "\n",
    "# create spike detectors\n",
    "spikes_e = nest.Create('spike_recorder')"
   ]
  },
  {
   "cell_type": "code",
   "execution_count": null,
   "id": "bfef6d25-52e7-4014-a6b0-5eef22f89dda",
   "metadata": {},
   "outputs": [],
   "source": [
    "#Connect Network\n",
    "\n",
    "#Barna Style\n",
    "delay =1.5;\n",
    "nest.CopyModel(\n",
    "    # \"stdp_pl_synapse_nestml\",\n",
    "    \"stdp_pl_synapse_hom\",\n",
    "    \"excitatory_plastic\",\n",
    "    {\n",
    "        #\"alpha\": nest.random.uniform(min=alpha_min, max=alpha_max), #heterogenity\n",
    "        \"alpha\": 0.1,  # magnitude of weight update for causal firing\n",
    "        \"lambda\": 20.0,  # magnitude of weight update for causal firing\n",
    "        \"mu\": 0.4,  # weight dependence exponent for causal firing\n",
    "        \"tau_plus\": 15.0,  # time constant of weight update for causal firing (ms)\n",
    "        #\"tau_minus\": 30.0,  # time constant of weight update for acausal firing (ms)\n",
    "        # \"weight\": 1.0,\n",
    "        \"weight\": w,\n",
    "        \"delay\": delay,\n",
    "    },\n",
    ")\n",
    "\n",
    "syn_dict = {\"synapse_model\": \"excitatory_plastic\"}\n",
    "            \n",
    "syn_exc = {'delay': d, 'weight': w}\n",
    "conn_exc = {'rule': 'fixed_indegree', 'indegree': CE}\n",
    "nest.Connect(neurons_e, neurons_e, conn_exc, syn_dict)\n",
    "nest.Connect(neurons_e, neurons_i, conn_exc, syn_exc)\n",
    "\n",
    "# I synapses\n",
    "syn_inh = {'delay': d, 'weight': - g * w}\n",
    "conn_inh = {'rule': 'fixed_indegree', 'indegree': CI}\n",
    "nest.Connect(neurons_i, neurons_e, conn_inh, syn_inh)\n",
    "nest.Connect(neurons_i, neurons_i, conn_inh, syn_inh)\n",
    "# spike detector\n",
    "nest.Connect(neurons_e, spikes_e)"
   ]
  },
  {
   "cell_type": "markdown",
   "id": "269f3cf2-7b4c-489b-bcdc-4744ccf7e0e0",
   "metadata": {},
   "source": [
    "#### 3.2 Generate Input and Connect to excitatory connection weight"
   ]
  },
  {
   "cell_type": "code",
   "execution_count": null,
   "id": "2d9b9500-c5e0-43fd-8de3-df747f5da8c1",
   "metadata": {},
   "outputs": [],
   "source": [
    "# external input parameters (background noise)\n",
    "V_th = 20.           # spike threshold (mV)\n",
    "tau_m = 20.          # membrane time constant (ms)\n",
    "\n",
    "nu_th = V_th / (w * CE * tau_m) # external rate needed to evoke activity (spikes/ms)\n",
    "nu_ex = 1. * nu_th             # set external rate above threshold (changed from 2 to 1)\n",
    "p_rate = 1e3 * nu_ex * CE       # external rate (spikes/s)\n",
    "\n",
    "# create poisson generator (noise phase)\n",
    "noise_pgen = nest.Create('poisson_generator', params={'rate': p_rate, 'stop': sim_time})\n",
    "\n",
    "# connect poisson generator using the excitatory connection weight\n",
    "nest.Connect(noise_pgen, neurons_i, syn_spec=syn_exc)\n",
    "nest.Connect(noise_pgen, neurons_e, syn_spec=syn_exc)"
   ]
  },
  {
   "cell_type": "code",
   "execution_count": null,
   "id": "a8d11409-ab7d-4924-aa1e-5cb11d0e57ae",
   "metadata": {},
   "outputs": [],
   "source": [
    "spikes_E_noise = nest.Create('spike_recorder')\n",
    "#spikes_E_noise.stop = sim_time\n",
    "spikes_I_noise = nest.Create('spike_recorder')\n",
    "#spikes_I_noise.stop = sim_time\n",
    "\n",
    "# connect neurons to spike detectors\n",
    "nest.Connect(neurons_e, spikes_E_noise)\n",
    "nest.Connect(neurons_i, spikes_I_noise)"
   ]
  },
  {
   "cell_type": "markdown",
   "id": "095862ed-0487-4a4c-b7ee-05c0d164463f",
   "metadata": {},
   "source": [
    "#### 3.3 Simulate and Analyse"
   ]
  },
  {
   "cell_type": "code",
   "execution_count": null,
   "id": "aeef3bb3-c716-46dd-bd9a-a895b2f06ac4",
   "metadata": {},
   "outputs": [],
   "source": [
    "# simulate (noise-driven phase)\n",
    "nest.Simulate(sim_time) \n",
    "\n",
    "# calculate mean firing rate in spikes per second\n",
    "events_ex = nest.GetStatus(spikes_E_noise, 'n_events')[0]\n",
    "events_in = nest.GetStatus(spikes_I_noise, 'n_events')[0]\n",
    "rate_ex = events_ex / sim_time / NE * 1e3\n",
    "rate_in = events_in / sim_time / NI * 1e3\n",
    "mean_rate = (rate_ex + rate_in) / 2.\n",
    "print('Mean firing rate: {} Hz (E: {} Hz, I: {} Hz)'.format(mean_rate, rate_ex, rate_in))"
   ]
  },
  {
   "cell_type": "markdown",
   "id": "13d38ef8-f804-4121-b683-2ac068a5c5af",
   "metadata": {},
   "source": [
    "#### 3.4 Raster Plot"
   ]
  },
  {
   "cell_type": "code",
   "execution_count": null,
   "id": "f2403ea2-b83c-45d2-9a50-4ac255b1aae0",
   "metadata": {},
   "outputs": [],
   "source": [
    "# raster plot of spiking activity using nest.raster_plot\n",
    "nest.raster_plot.from_device(spikes_E_noise, hist=True)\n",
    "axes = plt.gcf().get_axes()\n",
    "\n",
    "# Adjust xlim for each plot (you can iterate and apply limits)\n",
    "for ax in axes:\n",
    "    ax.set_xlim(8000, 9000)  # Set the x-axis limits for all subplots\n",
    "    \n",
    "nest.raster_plot.from_device(spikes_I_noise, hist=True)\n",
    "# Get all subplot axes\n",
    "axes = plt.gcf().get_axes()\n",
    "\n",
    "# Adjust xlim for each plot (you can iterate and apply limits)\n",
    "for ax in axes:\n",
    "    ax.set_xlim(8000, 9000)  # Set the x-axis limits for all subplots\n",
    "\n",
    "# Finally, display the modified plot\n",
    "plt.show()"
   ]
  },
  {
   "cell_type": "markdown",
   "id": "f3f347fa-3ef0-4702-8721-4576eb782e93",
   "metadata": {},
   "source": [
    "#### 3.5 Spike Bin and Average Correlation"
   ]
  },
  {
   "cell_type": "code",
   "execution_count": null,
   "id": "9c5ebbde-d49d-4b6e-9e19-4e7862ea5b72",
   "metadata": {},
   "outputs": [],
   "source": [
    "binned_spike_counts,heatmap_data = bin_spikes(spikes_E_noise, bin_width = 5, min_time=5000)"
   ]
  },
  {
   "cell_type": "code",
   "execution_count": null,
   "id": "64f271a0-abba-4b71-94a0-acbb3abdb7f1",
   "metadata": {},
   "outputs": [],
   "source": [
    "# Create the heatmap\n",
    "plt.figure(figsize=(10, 6))\n",
    "plt.imshow(heatmap_data, aspect='auto', cmap='hot', interpolation='nearest')\n",
    "plt.colorbar(label='Spike Counts')\n",
    "#plt.xticks(ticks=np.arange(num_bins), labels=[f'Bin {i+1}' for i in range(num_bins)])\n",
    "#plt.yticks(ticks=np.arange(num_neurons), labels=neuron_ids)\n",
    "plt.title('Binned Spike Counts Heatmap')\n",
    "plt.xlabel('Time Bins (5 ms each)')\n",
    "plt.ylabel('Neuron ID')\n",
    "plt.show()"
   ]
  },
  {
   "cell_type": "code",
   "execution_count": null,
   "id": "53e18f4f-1c4f-407c-b6cc-b953811b683f",
   "metadata": {},
   "outputs": [],
   "source": [
    "num_pairs = 1000\n",
    "corr = average_correlation(heatmap_data, num_pairs)\n",
    "print(f'Average Correlation for {num_pairs} pairs: {corr}')"
   ]
  },
  {
   "cell_type": "markdown",
   "id": "fcf19fd0-2bf7-4542-b359-89835f141443",
   "metadata": {},
   "source": [
    "**STDP tends to promote synchronization** in spiking neural networks by strengthening synapses between neurons that fire together and weakening those between asynchronously firing neurons.\n",
    "\n",
    "[1]: Thomas Nowotny. Enhancement of Synchronization in a Hybrid Neural Circuit by Spike-Timing Dependent Plasticity. Journal of Neuroscience, 2003."
   ]
  },
  {
   "cell_type": "markdown",
   "id": "e163cdef-bdfa-4305-ae72-967894432e68",
   "metadata": {},
   "source": [
    "# 4. Spiking Neural Network with Synapse Model STDP - Stimulus + Noise Input"
   ]
  },
  {
   "cell_type": "markdown",
   "id": "9e994054-62d7-4b65-8e94-b8383ae815e8",
   "metadata": {},
   "source": [
    "Look at the weight after 10 s, in both, and then also start driven stimulus after 5 s, before background noise"
   ]
  },
  {
   "cell_type": "code",
   "execution_count": null,
   "id": "75e4d0e0-08cc-4743-9370-5872a410b817",
   "metadata": {},
   "outputs": [],
   "source": [
    "#Initialize NEST\n",
    "seed = 1\n",
    "np.random.seed(seed)\n",
    "nest.ResetKernel()\n",
    "nest.SetKernelStatus({\n",
    "    'rng_seed': seed,\n",
    "    'resolution': dt,\n",
    "    'print_time': True,\n",
    "    'local_num_threads': num_threads})"
   ]
  },
  {
   "cell_type": "markdown",
   "id": "73bf5920-da27-4eab-b4b7-43974577ccdd",
   "metadata": {},
   "source": [
    "#### 4.1 Create Neural Models and Network"
   ]
  },
  {
   "cell_type": "code",
   "execution_count": null,
   "id": "c221573f-b758-4544-9e01-2e5fae4f9db2",
   "metadata": {},
   "outputs": [],
   "source": [
    "#### PARAMETERS ###\n",
    "sim_time = 25000. # simulation time [ms] (for each epoch)\n",
    "# network parameters\n",
    "gamma = 0.25               # relative number of inhibitory connections\n",
    "NE = 1000                  # number of excitatory neurons (10.000 in [1])\n",
    "NI = int(gamma * NE)       # number of inhibitory neurons\n",
    "CE = 100                   # indegree from excitatory neurons (From 200 to 100)\n",
    "CI = int(gamma * CE)       # indegree from inhibitory neurons\n",
    "\n",
    "# synapse parameters\n",
    "w = 0.1                    # excitatory synaptic weight (mV)\n",
    "w *= np.sqrt(10)           # normalized to the number of neurons we have\n",
    "g = 6.                     # relative inhibitory to excitatory synaptic weight (changed from 5 to 7)\n",
    "d = 1.5                    # synaptic transmission delay (ms)\n",
    "\n",
    "# neuron paramters\n",
    "neuron_params = {\n",
    "    'C_m': 1.0,            # membrane capacity (pF)\n",
    "    'E_L': 0.,             # resting membrane potential (mV)\n",
    "    'I_e': 0.,             # external input current (pA)\n",
    "    'V_m': 0.,             # membrane potential (mV)\n",
    "    'V_reset': 10.,        # reset membrane potential after a spike (mV)\n",
    "    'V_th': 20.,           # spike threshold (mV)\n",
    "    't_ref': 2.0,          # refractory period (ms)\n",
    "    'tau_m': 20.,          # membrane time constant (ms)\n",
    "}"
   ]
  },
  {
   "cell_type": "code",
   "execution_count": null,
   "id": "06c81d87-b1c2-4cca-a4b9-e1aac207266f",
   "metadata": {},
   "outputs": [],
   "source": [
    "# set default parameters for neurons and create neurons\n",
    "nest.SetDefaults('iaf_psc_delta', neuron_params) #tau_minus we need to add or is already added?\n",
    "#also do we need to enable the refractory period\n",
    "\n",
    "neurons_e = nest.Create('iaf_psc_delta', NE) #create excitatory neurons\n",
    "neurons_i = nest.Create('iaf_psc_delta', NI) #create inhibitory neurons\n",
    "\n",
    "# create spike detectors\n",
    "spikes_e = nest.Create('spike_recorder')"
   ]
  },
  {
   "cell_type": "code",
   "execution_count": null,
   "id": "9b28ea0f-8f87-43cf-ad14-2d4037e98c6a",
   "metadata": {},
   "outputs": [],
   "source": [
    "#Connect Network\n",
    "\n",
    "#Heterogenity\n",
    "alpha_min = 0.1\n",
    "alpha_max = 1\n",
    "\n",
    "#Barna Style\n",
    "delay =1.5;\n",
    "nest.CopyModel(\n",
    "    # \"stdp_pl_synapse_nestml\",\n",
    "    \"stdp_pl_synapse_hom\",\n",
    "    \"excitatory_plastic\",\n",
    "    {\n",
    "        #\"alpha\": nest.random.uniform(min=alpha_min, max=alpha_max), #heterogenity\n",
    "        \"alpha\": 0.1,  # magnitude of weight update for causal firing\n",
    "        \"lambda\": 20.0,  # magnitude of weight update for causal firing\n",
    "        \"mu\": 0.4,  # weight dependence exponent for causal firing\n",
    "        \"tau_plus\": 15.0,  # time constant of weight update for causal firing (ms)\n",
    "        #\"tau_minus\": 30.0,  # time constant of weight update for acausal firing (ms)\n",
    "        # \"weight\": 1.0,\n",
    "        \"weight\": w,\n",
    "        \"delay\": delay,\n",
    "    },\n",
    ")\n",
    "\n",
    "syn_dict = {\"synapse_model\": \"excitatory_plastic\"}\n",
    "            \n",
    "syn_exc = {'delay': d, 'weight': w}\n",
    "conn_exc = {'rule': 'fixed_indegree', 'indegree': CE}\n",
    "nest.Connect(neurons_e, neurons_e, conn_exc, syn_dict)\n",
    "nest.Connect(neurons_e, neurons_i, conn_exc, syn_exc)\n",
    "\n",
    "# I synapses\n",
    "syn_inh = {'delay': d, 'weight': - g * w}\n",
    "conn_inh = {'rule': 'fixed_indegree', 'indegree': CI}\n",
    "nest.Connect(neurons_i, neurons_e, conn_inh, syn_inh)\n",
    "nest.Connect(neurons_i, neurons_i, conn_inh, syn_inh)\n",
    "# spike detector\n",
    "nest.Connect(neurons_e, spikes_e)"
   ]
  },
  {
   "cell_type": "markdown",
   "id": "0335d7e7-7f56-4d4d-9590-cee2bc37d887",
   "metadata": {},
   "source": [
    "#### 4.2 Stimulus Input and connection to the system"
   ]
  },
  {
   "cell_type": "code",
   "execution_count": null,
   "id": "969ff602-5058-4504-9d14-b6e7dcd55761",
   "metadata": {},
   "outputs": [],
   "source": [
    "# external input (stimulus)\n",
    "p_rate = 1e3 * nu_ex * CE       # external rate (spikes/s)\n",
    "step_duration = 20.    # [ms]\n",
    "scale = p_rate/2    # scale input amplitude (max. rate)\n",
    "stim_time = 5000\n",
    "sig, times, inp_times, inp_amplitudes = generate_piecewise_constant_signal(seed=seed, \n",
    "                                                                           num_steps=int(sim_time/step_duration), step_duration=step_duration, resolution=dt, scale=scale)\n",
    "\n",
    "inp_times += stim_time  # stimulus starts after the noise phase\n",
    "\n",
    "inp_amplitudes*=2"
   ]
  },
  {
   "cell_type": "code",
   "execution_count": null,
   "id": "5f4a4160-0f57-4e2f-9e20-11c95e0addd8",
   "metadata": {},
   "outputs": [],
   "source": [
    "# visualize example input stimulus\n",
    "fig, ax = plt.subplots()\n",
    "ax.plot(times, sig)\n",
    "ax.set_xlim([0, 10000])\n",
    "ax.set_xlabel(r'Time [ms]')\n",
    "ax.set_ylabel(r'Amplitude')\n",
    "ax.set_title(r'$u(t)$')"
   ]
  },
  {
   "cell_type": "code",
   "execution_count": null,
   "id": "1a7d0efa-d6b5-4ab5-910b-0f9589ea22c0",
   "metadata": {},
   "outputs": [],
   "source": [
    "# create inhomogeneous poisson generator (time-dependent input signal)\n",
    "stim_pgen = nest.Create('inhomogeneous_poisson_generator', 1)\n",
    "nest.SetStatus(stim_pgen, params={'rate_times': inp_times, 'rate_values': inp_amplitudes})\n",
    "\n",
    "# create poisson generator (noise phase)\n",
    "noise_pgen = nest.Create('poisson_generator', params={'rate': p_rate, 'stop': stim_time})\n",
    "\n",
    "# connect poisson generator using the excitatory connection weight\n",
    "nest.Connect(noise_pgen, neurons_i, syn_spec=syn_exc)\n",
    "nest.Connect(noise_pgen, neurons_e, syn_spec=syn_exc)\n",
    "\n",
    "nest.Connect(stim_pgen, neurons_e, syn_spec=syn_exc)\n",
    "nest.Connect(stim_pgen, neurons_i, syn_spec=syn_exc)"
   ]
  },
  {
   "cell_type": "code",
   "execution_count": null,
   "id": "0aff447d-4d08-4d3f-bd3a-a0c6af57a842",
   "metadata": {},
   "outputs": [],
   "source": [
    "spikes_E_stim  = nest.Create('spike_recorder')\n",
    "spikes_I_stim  = nest.Create('spike_recorder')\n",
    "\n",
    "# connect neurons to spike detectors\n",
    "nest.Connect(neurons_e, spikes_E_stim)\n",
    "nest.Connect(neurons_i, spikes_I_stim)"
   ]
  },
  {
   "cell_type": "markdown",
   "id": "b356a43a-13bc-446a-9957-12d6f3ce3f51",
   "metadata": {},
   "source": [
    "#### 4.3 Simulate and Analyse"
   ]
  },
  {
   "cell_type": "code",
   "execution_count": null,
   "id": "463c8d7b-f28e-4ffa-9e94-282e3069ac46",
   "metadata": {},
   "outputs": [],
   "source": [
    "# simulate (noise-driven phase)\n",
    "nest.Simulate(sim_time) \n",
    "\n",
    "# calculate mean firing rate in spikes per second\n",
    "events_ex = nest.GetStatus(spikes_E_stim, 'n_events')[0]\n",
    "events_in = nest.GetStatus(spikes_I_stim, 'n_events')[0]\n",
    "rate_ex = events_ex / sim_time / NE * 1e3\n",
    "rate_in = events_in / sim_time / NI * 1e3\n",
    "mean_rate = (rate_ex + rate_in) / 2.\n",
    "print('Mean firing rate: {} Hz (E: {} Hz, I: {} Hz)'.format(mean_rate, rate_ex, rate_in))"
   ]
  },
  {
   "cell_type": "markdown",
   "id": "0ba5c427-7dbb-4705-954a-59f5028714f2",
   "metadata": {},
   "source": [
    "#### 4.4 Raster Plot"
   ]
  },
  {
   "cell_type": "code",
   "execution_count": null,
   "id": "b6338437-bcb5-4d1f-9bb6-4cf2660b5f9d",
   "metadata": {},
   "outputs": [],
   "source": [
    "# raster plot of spiking activity using nest.raster_plot\n",
    "nest.raster_plot.from_device(spikes_E_stim, hist=True)\n",
    "axes = plt.gcf().get_axes()\n",
    "\n",
    "# Adjust xlim for each plot (you can iterate and apply limits)\n",
    "for ax in axes:\n",
    "    ax.set_xlim(8000, 9000)  # Set the x-axis limits for all subplots\n",
    "    \n",
    "nest.raster_plot.from_device(spikes_I_stim, hist=True)\n",
    "# Get all subplot axes\n",
    "axes = plt.gcf().get_axes()\n",
    "\n",
    "# Adjust xlim for each plot (you can iterate and apply limits)\n",
    "for ax in axes:\n",
    "    ax.set_xlim(8000, 9000)  # Set the x-axis limits for all subplots\n",
    "\n",
    "# Finally, display the modified plot\n",
    "plt.show()"
   ]
  },
  {
   "cell_type": "markdown",
   "id": "2a709c20-684e-4259-99bd-6b3e5383de1c",
   "metadata": {},
   "source": [
    "#### 4.5 Spike Bin and Average Correlation"
   ]
  },
  {
   "cell_type": "code",
   "execution_count": null,
   "id": "d1e71e39-22e1-4d73-b274-29ed28396443",
   "metadata": {},
   "outputs": [],
   "source": [
    "binned_spike_counts,heatmap_data = bin_spikes(spikes_E_stim, bin_width = 5, min_time=5000)"
   ]
  },
  {
   "cell_type": "code",
   "execution_count": null,
   "id": "6e7dc0e0-6b45-4725-a3f9-d2112195792e",
   "metadata": {},
   "outputs": [],
   "source": [
    "num_pairs = 1000\n",
    "corr = average_correlation(heatmap_data, num_pairs)\n",
    "print(f'Average Correlation for {num_pairs} pairs: {corr}')"
   ]
  },
  {
   "cell_type": "code",
   "execution_count": null,
   "id": "9e84372b-d732-4096-b20e-20119ff323a4",
   "metadata": {},
   "outputs": [],
   "source": [
    "# Create the heatmap\n",
    "plt.figure(figsize=(10, 6))\n",
    "plt.imshow(heatmap_data, aspect='auto', cmap='hot', interpolation='nearest')\n",
    "plt.colorbar(label='Spike Counts')\n",
    "#plt.xticks(ticks=np.arange(num_bins), labels=[f'Bin {i+1}' for i in range(num_bins)])\n",
    "#plt.yticks(ticks=np.arange(num_neurons), labels=neuron_ids)\n",
    "plt.title('Binned Spike Counts Heatmap')\n",
    "plt.xlabel('Time Bins (5 ms each)')\n",
    "plt.ylabel('Neuron ID')\n",
    "plt.show()"
   ]
  },
  {
   "cell_type": "markdown",
   "id": "89a859dc-619b-4f4c-9109-220cbac19db8",
   "metadata": {},
   "source": [
    "# 5. Spiking Neural Network with Additive Synapse Model STDP - Noise Input"
   ]
  },
  {
   "cell_type": "code",
   "execution_count": null,
   "id": "631d3ca8-cff4-45ba-bf07-07d51e87bc89",
   "metadata": {},
   "outputs": [],
   "source": [
    "#Initialize NEST\n",
    "seed = 1\n",
    "np.random.seed(seed)\n",
    "nest.ResetKernel()\n",
    "nest.SetKernelStatus({\n",
    "    'rng_seed': seed,\n",
    "    \n",
    "    'resolution': dt,\n",
    "    'print_time': True,\n",
    "    'local_num_threads': num_threads})"
   ]
  },
  {
   "cell_type": "markdown",
   "id": "4394f5f0-86db-498d-aa31-8663b39ed97e",
   "metadata": {},
   "source": [
    "#### Create Neural Models and Network"
   ]
  },
  {
   "cell_type": "code",
   "execution_count": null,
   "id": "d1dd5831-1ca3-481b-8cb7-5e3f8c0e8f04",
   "metadata": {},
   "outputs": [],
   "source": [
    "#### PARAMETERS ###\n",
    "sim_time = 10000. # simulation time [ms] (for each epoch) Put it to 10000\n",
    "# network parameters\n",
    "gamma = 0.25               # relative number of inhibitory connections\n",
    "NE = 1000                  # number of excitatory neurons (10.000 in [1])\n",
    "NI = int(gamma * NE)       # number of inhibitory neurons\n",
    "CE = 100                   # indegree from excitatory neurons (From 200 to 100)\n",
    "CI = int(gamma * CE)       # indegree from inhibitory neurons\n",
    "\n",
    "# synapse parameters\n",
    "w = 0.1                    # excitatory synaptic weight (mV)\n",
    "w *= np.sqrt(10)           # normalized to the number of neurons we have\n",
    "g = 6.                     # relative inhibitory to excitatory synaptic weight (changed from 5 to 7)\n",
    "d = 1.5                    # synaptic transmission delay (ms)\n",
    "\n",
    "# neuron paramters\n",
    "neuron_params = {\n",
    "    'C_m': 1.0,            # membrane capacity (pF)\n",
    "    'E_L': 0.,             # resting membrane potential (mV)\n",
    "    'I_e': 0.,             # external input current (pA)\n",
    "    'V_m': 0.,             # membrane potential (mV)\n",
    "    'V_reset': 10.,        # reset membrane potential after a spike (mV)\n",
    "    'V_th': 20.,           # spike threshold (mV)\n",
    "    't_ref': 2.0,          # refractory period (ms)\n",
    "    'tau_m': 20.,          # membrane time constant (ms)\n",
    "}"
   ]
  },
  {
   "cell_type": "code",
   "execution_count": null,
   "id": "63d24e3f-fe43-4842-b8c3-3cf49f177dd3",
   "metadata": {},
   "outputs": [],
   "source": [
    "# set default parameters for neurons and create neurons\n",
    "nest.SetDefaults('iaf_psc_delta', neuron_params) #tau_minus we need to add or is already added?\n",
    "#also do we need to enable the refractory period\n",
    "\n",
    "neurons_e = nest.Create('iaf_psc_delta', NE) #create excitatory neurons\n",
    "neurons_i = nest.Create('iaf_psc_delta', NI) #create inhibitory neurons\n",
    "\n",
    "# create spike detectors\n",
    "spikes_e = nest.Create('spike_recorder')"
   ]
  },
  {
   "cell_type": "code",
   "execution_count": null,
   "id": "62fe9d3c-b784-4352-b5d2-85a2c30b07f1",
   "metadata": {},
   "outputs": [],
   "source": [
    "#Barna Style\n",
    "delay =1.5;\n",
    "nest.CopyModel(\n",
    "    # \"stdp_pl_synapse_nestml\",\n",
    "    \"stdp_connection_hom\",\n",
    "    \"excitatory_plastic\",\n",
    "    {\n",
    "        #\"alpha\": nest.random.uniform(min=alpha_min, max=alpha_max), #heterogenity\n",
    "        \"alpha\": 0.1,  # magnitude of weight update for causal firing\n",
    "        \"lambda\": 20.0,  # magnitude of weight update for causal firing\n",
    "        \"mu_plus\": 0,  # weight dependence exponent for causal firing, potentiation\n",
    "        \"mu_plus\": 0,  # weight dependence exponent for causal firing, depression\n",
    "        \"tau_plus\": 15.0,  # time constant of weight update for causal firing (ms)\n",
    "        # \"weight\": 1.0,\n",
    "        \"weight\": w,\n",
    "        \"delay\": delay,\n",
    "    },\n",
    ")"
   ]
  }
 ],
 "metadata": {
  "kernelspec": {
   "display_name": "Python 3 (ipykernel)",
   "language": "python",
   "name": "python3"
  },
  "language_info": {
   "codemirror_mode": {
    "name": "ipython",
    "version": 3
   },
   "file_extension": ".py",
   "mimetype": "text/x-python",
   "name": "python",
   "nbconvert_exporter": "python",
   "pygments_lexer": "ipython3",
   "version": "3.10.12"
  }
 },
 "nbformat": 4,
 "nbformat_minor": 5
}
